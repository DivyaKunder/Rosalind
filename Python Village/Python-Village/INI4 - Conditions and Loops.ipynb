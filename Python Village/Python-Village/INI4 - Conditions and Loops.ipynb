{
 "cells": [
  {
   "cell_type": "code",
   "execution_count": 8,
   "metadata": {},
   "outputs": [
    {
     "data": {
      "text/plain": [
       "15667789"
      ]
     },
     "execution_count": 8,
     "metadata": {},
     "output_type": "execute_result"
    }
   ],
   "source": [
    "filename = \"rosalind_ini4.txt\"\n",
    "f = open(filename, 'r')\n",
    "data = f.readline().split(\" \")\n",
    "a = int(data[0])\n",
    "b = int(data[1])\n",
    "f.close()\n",
    "\n",
    "def sum_of_odd(a,b):\n",
    "    sum_ = 0\n",
    "    for i in range(a,b+1):\n",
    "        if i % 2 == 1:\n",
    "            sum_ += i\n",
    "    return sum_\n",
    "\n",
    "sum_of_odd(a, b)"
   ]
  }
 ],
 "metadata": {
  "kernelspec": {
   "display_name": "Python 3",
   "language": "python",
   "name": "python3"
  },
  "language_info": {
   "codemirror_mode": {
    "name": "ipython",
    "version": 3
   },
   "file_extension": ".py",
   "mimetype": "text/x-python",
   "name": "python",
   "nbconvert_exporter": "python",
   "pygments_lexer": "ipython3",
   "version": "3.6.3"
  }
 },
 "nbformat": 4,
 "nbformat_minor": 2
}
