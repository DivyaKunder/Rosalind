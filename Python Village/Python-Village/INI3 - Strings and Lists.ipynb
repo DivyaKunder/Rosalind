{
 "cells": [
  {
   "cell_type": "code",
   "execution_count": 19,
   "metadata": {},
   "outputs": [
    {
     "data": {
      "text/plain": [
       "'Vulpanser nivicola'"
      ]
     },
     "execution_count": 19,
     "metadata": {},
     "output_type": "execute_result"
    }
   ],
   "source": [
    "filename = \"rosalind_ini3.txt\"\n",
    "f = open(filename, 'r')\n",
    "s = f.readline().rstrip()\n",
    "data = f.readline().split(\" \")\n",
    "a = int(data[0])\n",
    "b = int(data[1])\n",
    "c = int(data[2])\n",
    "d = int(data[3])\n",
    "f.close()\n",
    "\n",
    "def string_slice(s, a, b, c, d):\n",
    "    return s[a:b+1] + \" \" + s[c:d+1]\n",
    "\n",
    "string_slice(s, a, b, c, d)"
   ]
  }
 ],
 "metadata": {
  "kernelspec": {
   "display_name": "Python 3",
   "language": "python",
   "name": "python3"
  },
  "language_info": {
   "codemirror_mode": {
    "name": "ipython",
    "version": 3
   },
   "file_extension": ".py",
   "mimetype": "text/x-python",
   "name": "python",
   "nbconvert_exporter": "python",
   "pygments_lexer": "ipython3",
   "version": "3.6.3"
  }
 },
 "nbformat": 4,
 "nbformat_minor": 2
}
